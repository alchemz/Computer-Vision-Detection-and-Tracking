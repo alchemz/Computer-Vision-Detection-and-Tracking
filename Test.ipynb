{
 "cells": [
  {
   "cell_type": "code",
   "execution_count": null,
   "metadata": {},
   "outputs": [],
   "source": [
    "import cv2\n",
    "image = cv2.imread('./Desktop/data/0.jpg')\n",
    "cv2.imshow('Hello World', image)\n",
    "print(image.shape)\n",
    "print(height)\n",
    "cv2.waitKey()\n",
    "cv2.destroyAllWindows()"
   ]
  },
  {
   "cell_type": "code",
   "execution_count": null,
   "metadata": {},
   "outputs": [],
   "source": [
    "cv2.imwrite('output.jpg', image)"
   ]
  },
  {
   "cell_type": "code",
   "execution_count": null,
   "metadata": {},
   "outputs": [],
   "source": [
    "image = cv2.imread('./Desktop/data/450.jpg')\n",
    "height, width = image.shape[:2]\n",
    "start_row, start_col = 0, int(2*width/3)\n",
    "end_row, end_col = int(height * width/(3*height)), int(3*width/3)\n",
    "cropped_2 = image[start_row:end_row, start_col:end_col]\n",
    "cv2.imshow('Cropped image', cropped_2)\n",
    "print(cropped_2.shape)\n",
    "cv2.waitKey(0)\n",
    "cv2.destroyAllWindows()"
   ]
  },
  {
   "cell_type": "code",
   "execution_count": null,
   "metadata": {},
   "outputs": [],
   "source": [
    "#turn  405*720 to 240 * 720\n",
    "import os,sys\n",
    "from PIL import Image\n",
    "import numpy as np\n",
    "import matplotlib.pyplot as plt\n",
    "import os\n",
    "\n",
    "folder = r'/Users/lily/Desktop/blues'\n",
    "path = os.listdir(folder)\n",
    "#print(os.listdir(r'/Users/lily/Desktop/blues'))\n",
    "\n",
    "for each_bmp in path: \n",
    "    first_name, second_name = os.path.splitext(each_bmp)\n",
    "    each_bmp = os.path.join(folder, each_bmp)\n",
    "    # print(each_bmp)\n",
    "    # src = '/Users/lily/Desktop/blues.00000.bmp'\n",
    "    img = Image.open(each_jpg)\n",
    "    width, height = img.size \n",
    "    print(width, height, int(width / height),width % height)\n",
    "    box = (0, 0, height * int(width / height), height) \n",
    "\n",
    "    region = img.crop(box)\n",
    "    region.show()\n",
    "    region.save(first_name+'.jpg')"
   ]
  },
  {
   "cell_type": "code",
   "execution_count": null,
   "metadata": {},
   "outputs": [],
   "source": [
    "# split image to square sub images, and save it \n",
    "import os\n",
    "from PIL import Image\n",
    "\n",
    "# function for splitting image\n",
    "def splitimage(src, rownum, colnum, dstpath):\n",
    "    img = Image.open(src)\n",
    "    w, h = img.size\n",
    "    if rownum <= h and colnum <= w:\n",
    "        print('Original image info: %sx%s, %s, %s' % (w, h, img.format, img.mode))\n",
    "        print('Cropping image now...')\n",
    "\n",
    "        s = os.path.split(src)\n",
    "        if dstpath == '':\n",
    "            dstpath = s[0]\n",
    "        fn = s[1].split('.')\n",
    "        basename = fn[0]\n",
    "        ext = fn[-1]\n",
    "\n",
    "        num = 0\n",
    "        rowheight = h // rownum\n",
    "        colwidth = w // colnum\n",
    "        for r in range(rownum):\n",
    "            for c in range(colnum):\n",
    "                box = (c * colwidth, r * rowheight, (c + 1) * colwidth, (r + 1) * rowheight)\n",
    "                img.crop(box).save(os.path.join(dstpath, basename + '_' + str(num) + '.' + ext), ext)\n",
    "                num = num + 1\n",
    "\n",
    "        print('Cropping completed，generated %s subimages。' % num)\n",
    "    else:\n",
    "        print('invalid parameters for cropping！')\n",
    "\n",
    "# create folder\n",
    "def mkdir(path):\n",
    "    import os\n",
    "\n",
    "    # remove first empty space\n",
    "    path = path.strip()\n",
    "    # remove end empty space\n",
    "    path = path.rstrip(\"\\\\\")\n",
    "\n",
    "    # check if path existed\n",
    "    isExists = os.path.exists(path)\n",
    "\n",
    "    # checked result\n",
    "    if not isExists:\n",
    "        os.makedirs(path)\n",
    "        print (path+' create directory successfully')\n",
    "        return True\n",
    "    else:\n",
    "        print (path + ' directory existed')\n",
    "        return False\n",
    "\n",
    "\n",
    "\n",
    "\n",
    "folder = r'/Users/lily/Desktop/blues_1' \n",
    "path = os.listdir(folder)\n",
    "# print(path)\n",
    "\n",
    "for each_bmp in path: \n",
    "    first_name, second_name = os.path.splitext(each_bmp)\n",
    "    each_bmp = os.path.join(folder, each_bmp)\n",
    "    src = each_bmp\n",
    "    print(src)\n",
    "    print(first_name)\n",
    "    # define directory\n",
    "    mkpath = \"/Users/lily/Desktop/img_file1/\"+first_name\n",
    "    # call function\n",
    "    mkdir(mkpath)\n",
    "    if os.path.isfile(src):\n",
    "        dstpath = mkpath\n",
    "        if (dstpath == '') or os.path.exists(dstpath):\n",
    "            row = int(1) # 切割行数\n",
    "            col = int(10) # 切割列数\n",
    "            if row > 0 and col > 0:\n",
    "                splitimage(src, row, col, dstpath)\n",
    "            else:\n",
    "                print('invalid parameters for cropping！！')\n",
    "        else:\n",
    "            print('directory  %s not existed！' % dstpath)\n",
    "    else:\n",
    "        print('image %s not existed！' % src)"
   ]
  },
  {
   "cell_type": "code",
   "execution_count": 1,
   "metadata": {},
   "outputs": [],
   "source": [
    "import cv2\n",
    "import numpy as np\n",
    "\n",
    "image = cv2.imread(\"./Desktop/bee_1.jpg\")\n",
    "gray = cv2.cvtColor(image, cv2.COLOR_BGR2GRAY)"
   ]
  },
  {
   "cell_type": "code",
   "execution_count": 2,
   "metadata": {},
   "outputs": [],
   "source": [
    "# calculate gradient\n",
    "gradX = cv2.Sobel(gray, ddepth = cv2.CV_32F, dx=1, dy=0, ksize=-1)\n",
    "gradY = cv2.Sobel(gray, ddepth = cv2.CV_32F, dx=0, dy=1, ksize=-1)\n",
    "\n",
    "# subtract the y-gradient from the x-gradient\n",
    "gradient = cv2.subtract(gradX, gradY)\n",
    "gradient = cv2.convertScaleAbs(gradient)"
   ]
  },
  {
   "cell_type": "code",
   "execution_count": 3,
   "metadata": {},
   "outputs": [
    {
     "data": {
      "text/plain": [
       "32"
      ]
     },
     "execution_count": 3,
     "metadata": {},
     "output_type": "execute_result"
    }
   ],
   "source": [
    "cv2.imshow('G', gradient)\n",
    "cv2.waitKey(0)"
   ]
  },
  {
   "cell_type": "code",
   "execution_count": 4,
   "metadata": {},
   "outputs": [],
   "source": [
    "# blur and threshold the image\n",
    "blurred = cv2.blur(gradient, (9,9))\n",
    "(_, thresh) = cv2.threshold(blurred, 90, 255, cv2.THRESH_BINARY)"
   ]
  },
  {
   "cell_type": "code",
   "execution_count": 5,
   "metadata": {},
   "outputs": [
    {
     "data": {
      "text/plain": [
       "32"
      ]
     },
     "execution_count": 5,
     "metadata": {},
     "output_type": "execute_result"
    }
   ],
   "source": [
    "cv2.imshow('G', blurred)\n",
    "cv2.waitKey(0)"
   ]
  },
  {
   "cell_type": "code",
   "execution_count": 6,
   "metadata": {},
   "outputs": [],
   "source": [
    "kernel = cv2.getStructuringElement(cv2.MORPH_RECT, (25, 25))\n",
    "closed = cv2.morphologyEx(thresh, cv2.MORPH_CLOSE, kernel)"
   ]
  },
  {
   "cell_type": "code",
   "execution_count": 7,
   "metadata": {},
   "outputs": [
    {
     "data": {
      "text/plain": [
       "32"
      ]
     },
     "execution_count": 7,
     "metadata": {},
     "output_type": "execute_result"
    }
   ],
   "source": [
    "cv2.imshow('G', closed)\n",
    "cv2.waitKey(0)"
   ]
  },
  {
   "cell_type": "code",
   "execution_count": 8,
   "metadata": {},
   "outputs": [],
   "source": [
    "# perform a series of erosions and dilations\n",
    "closed = cv2.erode(closed, None, iterations=4)\n",
    "closed = cv2.dilate(closed, None, iterations=4)"
   ]
  },
  {
   "cell_type": "code",
   "execution_count": 9,
   "metadata": {},
   "outputs": [
    {
     "data": {
      "text/plain": [
       "32"
      ]
     },
     "execution_count": 9,
     "metadata": {},
     "output_type": "execute_result"
    }
   ],
   "source": [
    "cv2.imshow('G', closed)\n",
    "cv2.waitKey(0)"
   ]
  },
  {
   "cell_type": "code",
   "execution_count": 13,
   "metadata": {},
   "outputs": [],
   "source": [
    "(_,cnts,_) = cv2.findContours(closed.copy(), cv2.RETR_EXTERNAL, cv2.CHAIN_APPROX_SIMPLE)\n",
    "c = sorted(cnts, key=cv2.contourArea, reverse=True)[0]\n",
    "\n",
    "# compute the rotated bounding box of the largest contour\n",
    "rect = cv2.minAreaRect(c)\n",
    "box = np.int0(cv2.boxPoints(rect))\n",
    "\n",
    "# draw a bounding box arounded the detected barcode and display the image\n",
    "contour_img = image.copy()\n",
    "cv2.drawContours(contour_img, [box], -1, (0, 255, 0), 3)\n",
    "cv2.imshow(\"Image\", contour_img)\n",
    "cv2.imwrite(\"./Desktop/data/contour/contoursImage.jpeg\", contour_img)\n",
    "cv2.waitKey(0)\n",
    "\n",
    "Xs = [i[0] for i in box]\n",
    "Ys = [i[1] for i in box]\n",
    "x1 = min(Xs)\n",
    "x2 = max(Xs)\n",
    "y1 = min(Ys)\n",
    "y2 = max(Ys)\n",
    "height = y2 - y1\n",
    "width = x2 - x1\n",
    "cropImg = image[y1:y1+height, x1:x1+width]\n",
    "\n",
    "cv2.imshow(\"cropImg\", cropImg)\n",
    "cv2.imwrite(\"./Desktop/data/contour/cropped_bee.jpeg\", cropImg)\n",
    "cv2.waitKey(0)\n",
    "cv2.destroyAllWindows()"
   ]
  },
  {
   "cell_type": "code",
   "execution_count": null,
   "metadata": {},
   "outputs": [],
   "source": []
  },
  {
   "cell_type": "code",
   "execution_count": null,
   "metadata": {},
   "outputs": [],
   "source": []
  }
 ],
 "metadata": {
  "kernelspec": {
   "display_name": "Python 3",
   "language": "python",
   "name": "python3"
  },
  "language_info": {
   "codemirror_mode": {
    "name": "ipython",
    "version": 3
   },
   "file_extension": ".py",
   "mimetype": "text/x-python",
   "name": "python",
   "nbconvert_exporter": "python",
   "pygments_lexer": "ipython3",
   "version": "3.6.5"
  }
 },
 "nbformat": 4,
 "nbformat_minor": 2
}
